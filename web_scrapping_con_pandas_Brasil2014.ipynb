{
  "nbformat": 4,
  "nbformat_minor": 0,
  "metadata": {
    "colab": {
      "provenance": [],
      "authorship_tag": "ABX9TyM6n6cSNxn2G2WF/0hD+XIr",
      "include_colab_link": true
    },
    "kernelspec": {
      "name": "python3",
      "display_name": "Python 3"
    },
    "language_info": {
      "name": "python"
    }
  },
  "cells": [
    {
      "cell_type": "markdown",
      "metadata": {
        "id": "view-in-github",
        "colab_type": "text"
      },
      "source": [
        "<a href=\"https://colab.research.google.com/github/robertbarac/Web_Scraping_Brazil_2014/blob/main/web_scrapping_con_pandas_Brasil2014.ipynb\" target=\"_parent\"><img src=\"https://colab.research.google.com/assets/colab-badge.svg\" alt=\"Open In Colab\"/></a>"
      ]
    },
    {
      "cell_type": "code",
      "source": [
        "import pandas as pd"
      ],
      "metadata": {
        "id": "KYFCswNtYzW6"
      },
      "execution_count": null,
      "outputs": []
    },
    {
      "cell_type": "code",
      "execution_count": null,
      "metadata": {
        "id": "QidbBjDU98I_"
      },
      "outputs": [],
      "source": [
        "url = 'https://en.wikipedia.org/wiki/2014_FIFA_World_Cup'"
      ]
    },
    {
      "cell_type": "code",
      "source": [
        "df = pd.read_html(url)"
      ],
      "metadata": {
        "id": "ZyLbDOq6Dqxf"
      },
      "execution_count": null,
      "outputs": []
    },
    {
      "cell_type": "code",
      "source": [
        "tablas_fase_de_grupos = [df[i] for i in range(10, 60, 7)]\n"
      ],
      "metadata": {
        "id": "1ZvgsVigDsqX"
      },
      "execution_count": null,
      "outputs": []
    },
    {
      "cell_type": "code",
      "source": [
        "for tabla in range(len(tablas_fase_de_grupos)):\n",
        "  tablas_fase_de_grupos[tabla].rename(columns = {tablas_fase_de_grupos[tabla].columns[1]: 'Team'}, inplace=True)"
      ],
      "metadata": {
        "id": "zG1U8yTNRrzg"
      },
      "execution_count": null,
      "outputs": []
    },
    {
      "cell_type": "code",
      "source": [
        "for tabla in range(len(tablas_fase_de_grupos)):\n",
        "  print(tablas_fase_de_grupos[tabla])"
      ],
      "metadata": {
        "colab": {
          "base_uri": "https://localhost:8080/"
        },
        "id": "LX3n2Hj2RaU3",
        "outputId": "9cc424e6-36f4-4024-ee22-6d97c41995ea"
      },
      "execution_count": null,
      "outputs": [
        {
          "output_type": "stream",
          "name": "stdout",
          "text": [
            "   Pos        Team  Pld  W  D  L  GF  GA  GD  Pts              Qualification\n",
            "0    1  Brazil (H)    3  2  1  0   7   2  +5    7  Advance to knockout stage\n",
            "1    2      Mexico    3  2  1  0   4   1  +3    7  Advance to knockout stage\n",
            "2    3     Croatia    3  1  0  2   6   6   0    3                        NaN\n",
            "3    4    Cameroon    3  0  0  3   1   9  −8    0                        NaN\n",
            "   Pos         Team  Pld  W  D  L  GF  GA  GD  Pts              Qualification\n",
            "0    1  Netherlands    3  3  0  0  10   3  +7    9  Advance to knockout stage\n",
            "1    2        Chile    3  2  0  1   5   3  +2    6  Advance to knockout stage\n",
            "2    3        Spain    3  1  0  2   4   7  −3    3                        NaN\n",
            "3    4    Australia    3  0  0  3   3   9  −6    0                        NaN\n",
            "   Pos         Team  Pld  W  D  L  GF  GA  GD  Pts              Qualification\n",
            "0    1     Colombia    3  3  0  0   9   2  +7    9  Advance to knockout stage\n",
            "1    2       Greece    3  1  1  1   2   4  −2    4  Advance to knockout stage\n",
            "2    3  Ivory Coast    3  1  0  2   4   5  −1    3                        NaN\n",
            "3    4        Japan    3  0  1  2   2   6  −4    1                        NaN\n",
            "   Pos        Team  Pld  W  D  L  GF  GA  GD  Pts              Qualification\n",
            "0    1  Costa Rica    3  2  1  0   4   1  +3    7  Advance to knockout stage\n",
            "1    2     Uruguay    3  2  0  1   4   4   0    6  Advance to knockout stage\n",
            "2    3       Italy    3  1  0  2   2   3  −1    3                        NaN\n",
            "3    4     England    3  0  1  2   2   4  −2    1                        NaN\n",
            "   Pos         Team  Pld  W  D  L  GF  GA  GD  Pts              Qualification\n",
            "0    1       France    3  2  1  0   8   2  +6    7  Advance to knockout stage\n",
            "1    2  Switzerland    3  2  0  1   7   6  +1    6  Advance to knockout stage\n",
            "2    3      Ecuador    3  1  1  1   3   3   0    4                        NaN\n",
            "3    4     Honduras    3  0  0  3   1   8  −7    0                        NaN\n",
            "   Pos                    Team  Pld  W  D  L  GF  GA  GD  Pts  \\\n",
            "0    1               Argentina    3  3  0  0   6   3  +3    9   \n",
            "1    2                 Nigeria    3  1  1  1   3   3   0    4   \n",
            "2    3  Bosnia and Herzegovina    3  1  0  2   4   4   0    3   \n",
            "3    4                    Iran    3  0  1  2   1   4  −3    1   \n",
            "\n",
            "               Qualification  \n",
            "0  Advance to knockout stage  \n",
            "1  Advance to knockout stage  \n",
            "2                        NaN  \n",
            "3                        NaN  \n",
            "   Pos           Team  Pld  W  D  L  GF  GA  GD  Pts  \\\n",
            "0    1        Germany    3  2  1  0   7   2  +5    7   \n",
            "1    2  United States    3  1  1  1   4   4   0    4   \n",
            "2    3       Portugal    3  1  1  1   4   7  −3    4   \n",
            "3    4          Ghana    3  0  1  2   4   6  −2    1   \n",
            "\n",
            "               Qualification  \n",
            "0  Advance to knockout stage  \n",
            "1  Advance to knockout stage  \n",
            "2                        NaN  \n",
            "3                        NaN  \n",
            "   Pos         Team  Pld  W  D  L  GF  GA  GD  Pts              Qualification\n",
            "0    1      Belgium    3  3  0  0   4   1  +3    9  Advance to knockout stage\n",
            "1    2      Algeria    3  1  1  1   6   5  +1    4  Advance to knockout stage\n",
            "2    3       Russia    3  0  2  1   2   3  −1    2                        NaN\n",
            "3    4  South Korea    3  0  1  2   3   6  −3    1                        NaN\n"
          ]
        }
      ]
    },
    {
      "cell_type": "code",
      "source": [
        "indices_partidos_fase_de_grupos = []\n",
        "for i in range(10, 83):\n",
        "  if i not in [10, 17, 24, 31, 38, 45, 52, 59, 66]:\n",
        "    indices_partidos_fase_de_grupos.append(i)"
      ],
      "metadata": {
        "id": "Yxw3idrcp6tA"
      },
      "execution_count": null,
      "outputs": []
    },
    {
      "cell_type": "code",
      "source": [
        "pd.DataFrame(df[11]).columns[0]"
      ],
      "metadata": {
        "colab": {
          "base_uri": "https://localhost:8080/",
          "height": 35
        },
        "id": "qcmqvM888s-K",
        "outputId": "d94d9c74-a09a-4944-cbf1-df5f559bc3c5"
      },
      "execution_count": null,
      "outputs": [
        {
          "output_type": "execute_result",
          "data": {
            "text/plain": [
              "'Brazil'"
            ],
            "application/vnd.google.colaboratory.intrinsic+json": {
              "type": "string"
            }
          },
          "metadata": {},
          "execution_count": 150
        }
      ]
    },
    {
      "cell_type": "code",
      "source": [
        "todos_los_partidos = {}\n",
        "home = [pd.DataFrame(df[indice]).columns[0] for indice in indices_partidos_fase_de_grupos]\n",
        "score = [pd.DataFrame(df[indice]).columns[1] for indice in indices_partidos_fase_de_grupos]\n",
        "away = [pd.DataFrame(df[indice]).columns[2] for indice in indices_partidos_fase_de_grupos]\n",
        "\n",
        "todos_los_partidos['Home'] = home\n",
        "todos_los_partidos['Score'] = score\n",
        "todos_los_partidos['Away'] = away"
      ],
      "metadata": {
        "id": "hZkKm6yacEbs"
      },
      "execution_count": null,
      "outputs": []
    },
    {
      "cell_type": "code",
      "source": [
        "todos_los_partidos"
      ],
      "metadata": {
        "colab": {
          "base_uri": "https://localhost:8080/"
        },
        "id": "bjXgDdMY_WZ8",
        "outputId": "cfc6b84e-4744-484b-8a77-2666195f8031"
      },
      "execution_count": null,
      "outputs": [
        {
          "output_type": "execute_result",
          "data": {
            "text/plain": [
              "{'Home': ['Brazil',\n",
              "  'Mexico',\n",
              "  'Brazil',\n",
              "  'Cameroon',\n",
              "  'Cameroon',\n",
              "  'Croatia',\n",
              "  'Spain',\n",
              "  'Chile',\n",
              "  'Australia',\n",
              "  'Spain',\n",
              "  'Australia',\n",
              "  'Netherlands',\n",
              "  'Colombia',\n",
              "  'Ivory Coast',\n",
              "  'Colombia',\n",
              "  'Japan',\n",
              "  'Japan',\n",
              "  'Greece',\n",
              "  'Uruguay',\n",
              "  'England',\n",
              "  'Uruguay',\n",
              "  'Italy',\n",
              "  'Italy',\n",
              "  'Costa Rica',\n",
              "  'Switzerland',\n",
              "  'France',\n",
              "  'Switzerland',\n",
              "  'Honduras',\n",
              "  'Honduras',\n",
              "  'Ecuador',\n",
              "  'Argentina',\n",
              "  'Iran',\n",
              "  'Argentina',\n",
              "  'Nigeria',\n",
              "  'Nigeria',\n",
              "  'Bosnia and Herzegovina',\n",
              "  'Germany',\n",
              "  'Ghana',\n",
              "  'Germany',\n",
              "  'United States',\n",
              "  'United States',\n",
              "  'Portugal',\n",
              "  'Belgium',\n",
              "  'Russia',\n",
              "  'Belgium',\n",
              "  'South Korea',\n",
              "  'South Korea',\n",
              "  'Algeria',\n",
              "  'Brazil',\n",
              "  'Colombia',\n",
              "  'Netherlands',\n",
              "  'Costa Rica',\n",
              "  'France',\n",
              "  'Germany',\n",
              "  'Argentina',\n",
              "  'Belgium',\n",
              "  'France',\n",
              "  'Brazil',\n",
              "  'Argentina',\n",
              "  'Netherlands',\n",
              "  'Brazil',\n",
              "  'Netherlands',\n",
              "  'Brazil',\n",
              "  'Germany'],\n",
              " 'Score': ['3–1',\n",
              "  '1–0',\n",
              "  '0–0',\n",
              "  '0–4',\n",
              "  '1–4',\n",
              "  '1–3',\n",
              "  '1–5',\n",
              "  '3–1',\n",
              "  '2–3',\n",
              "  '0–2',\n",
              "  '0–3',\n",
              "  '2–0',\n",
              "  '3–0',\n",
              "  '2–1',\n",
              "  '2–1',\n",
              "  '0–0',\n",
              "  '1–4',\n",
              "  '2–1',\n",
              "  '1–3',\n",
              "  '1–2',\n",
              "  '2–1',\n",
              "  '0–1',\n",
              "  '0–1',\n",
              "  '0–0',\n",
              "  '2–1',\n",
              "  '3–0',\n",
              "  '2–5',\n",
              "  '1–2',\n",
              "  '0–3',\n",
              "  '0–0',\n",
              "  '2–1',\n",
              "  '0–0',\n",
              "  '1–0',\n",
              "  '1–0',\n",
              "  '2–3',\n",
              "  '3–1',\n",
              "  '4–0',\n",
              "  '1–2',\n",
              "  '2–2',\n",
              "  '2–2',\n",
              "  '0–1',\n",
              "  '2–1',\n",
              "  '2–1',\n",
              "  '1–1',\n",
              "  '1–0',\n",
              "  '2–4',\n",
              "  '0–1',\n",
              "  '1–1',\n",
              "  '1–1 (a.e.t.)',\n",
              "  '2–0',\n",
              "  '2–1',\n",
              "  '1–1 (a.e.t.)',\n",
              "  '2–0',\n",
              "  '2–1 (a.e.t.)',\n",
              "  '1–0 (a.e.t.)',\n",
              "  '2–1 (a.e.t.)',\n",
              "  '0–1',\n",
              "  '2–1',\n",
              "  '1–0',\n",
              "  '0–0 (a.e.t.)',\n",
              "  '1–7',\n",
              "  '0–0 (a.e.t.)',\n",
              "  '0–3',\n",
              "  '1–0 (a.e.t.)'],\n",
              " 'Away': ['Croatia',\n",
              "  'Cameroon',\n",
              "  'Mexico',\n",
              "  'Croatia',\n",
              "  'Brazil',\n",
              "  'Mexico',\n",
              "  'Netherlands',\n",
              "  'Australia',\n",
              "  'Netherlands',\n",
              "  'Chile',\n",
              "  'Spain',\n",
              "  'Chile',\n",
              "  'Greece',\n",
              "  'Japan',\n",
              "  'Ivory Coast',\n",
              "  'Greece',\n",
              "  'Colombia',\n",
              "  'Ivory Coast',\n",
              "  'Costa Rica',\n",
              "  'Italy',\n",
              "  'England',\n",
              "  'Costa Rica',\n",
              "  'Uruguay',\n",
              "  'England',\n",
              "  'Ecuador',\n",
              "  'Honduras',\n",
              "  'France',\n",
              "  'Ecuador',\n",
              "  'Switzerland',\n",
              "  'France',\n",
              "  'Bosnia and Herzegovina',\n",
              "  'Nigeria',\n",
              "  'Iran',\n",
              "  'Bosnia and Herzegovina',\n",
              "  'Argentina',\n",
              "  'Iran',\n",
              "  'Portugal',\n",
              "  'United States',\n",
              "  'Ghana',\n",
              "  'Portugal',\n",
              "  'Germany',\n",
              "  'Ghana',\n",
              "  'Algeria',\n",
              "  'South Korea',\n",
              "  'Russia',\n",
              "  'Algeria',\n",
              "  'Belgium',\n",
              "  'Russia',\n",
              "  'Chile',\n",
              "  'Uruguay',\n",
              "  'Mexico',\n",
              "  'Greece',\n",
              "  'Nigeria',\n",
              "  'Algeria',\n",
              "  'Switzerland',\n",
              "  'United States',\n",
              "  'Germany',\n",
              "  'Colombia',\n",
              "  'Belgium',\n",
              "  'Costa Rica',\n",
              "  'Germany',\n",
              "  'Argentina',\n",
              "  'Netherlands',\n",
              "  'Argentina']}"
            ]
          },
          "metadata": {},
          "execution_count": 152
        }
      ]
    },
    {
      "cell_type": "code",
      "source": [
        "pd_partidos = pd.DataFrame(todos_los_partidos)"
      ],
      "metadata": {
        "id": "8CKf0b9r8QK0"
      },
      "execution_count": null,
      "outputs": []
    },
    {
      "cell_type": "code",
      "source": [
        "pd_partidos.shape"
      ],
      "metadata": {
        "colab": {
          "base_uri": "https://localhost:8080/"
        },
        "id": "MfXFNouCBCcW",
        "outputId": "05618034-9a20-4c9d-963e-790b0b5dd06d"
      },
      "execution_count": null,
      "outputs": [
        {
          "output_type": "execute_result",
          "data": {
            "text/plain": [
              "(64, 3)"
            ]
          },
          "metadata": {},
          "execution_count": 155
        }
      ]
    },
    {
      "cell_type": "code",
      "source": [
        "pd_partidos.sample(5)"
      ],
      "metadata": {
        "colab": {
          "base_uri": "https://localhost:8080/",
          "height": 206
        },
        "id": "lzDEYzg0CPNp",
        "outputId": "4a1e5197-f174-4c73-b98d-4c8dd20cfaed"
      },
      "execution_count": null,
      "outputs": [
        {
          "output_type": "execute_result",
          "data": {
            "text/plain": [
              "        Home Score       Away\n",
              "31      Iran   0–0    Nigeria\n",
              "41  Portugal   2–1      Ghana\n",
              "15     Japan   0–0     Greece\n",
              "52    France   2–0    Nigeria\n",
              "34   Nigeria   2–3  Argentina"
            ],
            "text/html": [
              "\n",
              "  <div id=\"df-1dae7e17-a5b2-4818-af93-5f3294a4c534\">\n",
              "    <div class=\"colab-df-container\">\n",
              "      <div>\n",
              "<style scoped>\n",
              "    .dataframe tbody tr th:only-of-type {\n",
              "        vertical-align: middle;\n",
              "    }\n",
              "\n",
              "    .dataframe tbody tr th {\n",
              "        vertical-align: top;\n",
              "    }\n",
              "\n",
              "    .dataframe thead th {\n",
              "        text-align: right;\n",
              "    }\n",
              "</style>\n",
              "<table border=\"1\" class=\"dataframe\">\n",
              "  <thead>\n",
              "    <tr style=\"text-align: right;\">\n",
              "      <th></th>\n",
              "      <th>Home</th>\n",
              "      <th>Score</th>\n",
              "      <th>Away</th>\n",
              "    </tr>\n",
              "  </thead>\n",
              "  <tbody>\n",
              "    <tr>\n",
              "      <th>31</th>\n",
              "      <td>Iran</td>\n",
              "      <td>0–0</td>\n",
              "      <td>Nigeria</td>\n",
              "    </tr>\n",
              "    <tr>\n",
              "      <th>41</th>\n",
              "      <td>Portugal</td>\n",
              "      <td>2–1</td>\n",
              "      <td>Ghana</td>\n",
              "    </tr>\n",
              "    <tr>\n",
              "      <th>15</th>\n",
              "      <td>Japan</td>\n",
              "      <td>0–0</td>\n",
              "      <td>Greece</td>\n",
              "    </tr>\n",
              "    <tr>\n",
              "      <th>52</th>\n",
              "      <td>France</td>\n",
              "      <td>2–0</td>\n",
              "      <td>Nigeria</td>\n",
              "    </tr>\n",
              "    <tr>\n",
              "      <th>34</th>\n",
              "      <td>Nigeria</td>\n",
              "      <td>2–3</td>\n",
              "      <td>Argentina</td>\n",
              "    </tr>\n",
              "  </tbody>\n",
              "</table>\n",
              "</div>\n",
              "      <button class=\"colab-df-convert\" onclick=\"convertToInteractive('df-1dae7e17-a5b2-4818-af93-5f3294a4c534')\"\n",
              "              title=\"Convert this dataframe to an interactive table.\"\n",
              "              style=\"display:none;\">\n",
              "        \n",
              "  <svg xmlns=\"http://www.w3.org/2000/svg\" height=\"24px\"viewBox=\"0 0 24 24\"\n",
              "       width=\"24px\">\n",
              "    <path d=\"M0 0h24v24H0V0z\" fill=\"none\"/>\n",
              "    <path d=\"M18.56 5.44l.94 2.06.94-2.06 2.06-.94-2.06-.94-.94-2.06-.94 2.06-2.06.94zm-11 1L8.5 8.5l.94-2.06 2.06-.94-2.06-.94L8.5 2.5l-.94 2.06-2.06.94zm10 10l.94 2.06.94-2.06 2.06-.94-2.06-.94-.94-2.06-.94 2.06-2.06.94z\"/><path d=\"M17.41 7.96l-1.37-1.37c-.4-.4-.92-.59-1.43-.59-.52 0-1.04.2-1.43.59L10.3 9.45l-7.72 7.72c-.78.78-.78 2.05 0 2.83L4 21.41c.39.39.9.59 1.41.59.51 0 1.02-.2 1.41-.59l7.78-7.78 2.81-2.81c.8-.78.8-2.07 0-2.86zM5.41 20L4 18.59l7.72-7.72 1.47 1.35L5.41 20z\"/>\n",
              "  </svg>\n",
              "      </button>\n",
              "      \n",
              "  <style>\n",
              "    .colab-df-container {\n",
              "      display:flex;\n",
              "      flex-wrap:wrap;\n",
              "      gap: 12px;\n",
              "    }\n",
              "\n",
              "    .colab-df-convert {\n",
              "      background-color: #E8F0FE;\n",
              "      border: none;\n",
              "      border-radius: 50%;\n",
              "      cursor: pointer;\n",
              "      display: none;\n",
              "      fill: #1967D2;\n",
              "      height: 32px;\n",
              "      padding: 0 0 0 0;\n",
              "      width: 32px;\n",
              "    }\n",
              "\n",
              "    .colab-df-convert:hover {\n",
              "      background-color: #E2EBFA;\n",
              "      box-shadow: 0px 1px 2px rgba(60, 64, 67, 0.3), 0px 1px 3px 1px rgba(60, 64, 67, 0.15);\n",
              "      fill: #174EA6;\n",
              "    }\n",
              "\n",
              "    [theme=dark] .colab-df-convert {\n",
              "      background-color: #3B4455;\n",
              "      fill: #D2E3FC;\n",
              "    }\n",
              "\n",
              "    [theme=dark] .colab-df-convert:hover {\n",
              "      background-color: #434B5C;\n",
              "      box-shadow: 0px 1px 3px 1px rgba(0, 0, 0, 0.15);\n",
              "      filter: drop-shadow(0px 1px 2px rgba(0, 0, 0, 0.3));\n",
              "      fill: #FFFFFF;\n",
              "    }\n",
              "  </style>\n",
              "\n",
              "      <script>\n",
              "        const buttonEl =\n",
              "          document.querySelector('#df-1dae7e17-a5b2-4818-af93-5f3294a4c534 button.colab-df-convert');\n",
              "        buttonEl.style.display =\n",
              "          google.colab.kernel.accessAllowed ? 'block' : 'none';\n",
              "\n",
              "        async function convertToInteractive(key) {\n",
              "          const element = document.querySelector('#df-1dae7e17-a5b2-4818-af93-5f3294a4c534');\n",
              "          const dataTable =\n",
              "            await google.colab.kernel.invokeFunction('convertToInteractive',\n",
              "                                                     [key], {});\n",
              "          if (!dataTable) return;\n",
              "\n",
              "          const docLinkHtml = 'Like what you see? Visit the ' +\n",
              "            '<a target=\"_blank\" href=https://colab.research.google.com/notebooks/data_table.ipynb>data table notebook</a>'\n",
              "            + ' to learn more about interactive tables.';\n",
              "          element.innerHTML = '';\n",
              "          dataTable['output_type'] = 'display_data';\n",
              "          await google.colab.output.renderOutput(dataTable, element);\n",
              "          const docLink = document.createElement('div');\n",
              "          docLink.innerHTML = docLinkHtml;\n",
              "          element.appendChild(docLink);\n",
              "        }\n",
              "      </script>\n",
              "    </div>\n",
              "  </div>\n",
              "  "
            ]
          },
          "metadata": {},
          "execution_count": 159
        }
      ]
    }
  ]
}